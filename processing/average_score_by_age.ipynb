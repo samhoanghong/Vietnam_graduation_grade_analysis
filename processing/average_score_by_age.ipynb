{
 "cells": [
  {
   "cell_type": "code",
   "execution_count": 1,
   "id": "1d086469",
   "metadata": {},
   "outputs": [
    {
     "data": {
      "text/plain": [
       "['']"
      ]
     },
     "execution_count": 1,
     "metadata": {},
     "output_type": "execute_result"
    }
   ],
   "source": [
    "# read file\n",
    "with open(\"../cleaning/clean_data.csv\", encoding=\"utf8\") as file:\n",
    "\tdata = file.read().split(\"\\n\")\n",
    "\n",
    "header = data[0]\n",
    "students = data[1:]\n",
    "\n",
    "total_student = len(students)\n",
    "\n",
    "# split header\n",
    "header = header.split(\",\")\n",
    "subjects = header[5:]\n",
    "\n",
    "# split each student in list\n",
    "for i in range(len(students)):\n",
    "\tstudents[i] = students[i].split(\",\")\n",
    "\n",
    "# remove last student (empty student)\n",
    "students.pop()"
   ]
  },
  {
   "cell_type": "code",
   "execution_count": 2,
   "id": "13288939",
   "metadata": {},
   "outputs": [],
   "source": [
    "# Get number of student per age group\n",
    "# 2003 2002 2001 2000 ... 1994 <= 1993\n",
    "# 17 18 19 ... 26 >=27\n",
    "num_of_student_per_age_group = [0,0,0,0,0,0,0,0,0,0,0]\n",
    "average_of_student_per_age_group = [0,0,0,0,0,0,0,0,0,0,0]\n",
    "\n",
    "for s in students:\n",
    "\tage = 2020 - int(s[4])\n",
    "\tif age >= 27:\n",
    "\t\tage = 27\n",
    "\tnum_of_student_per_age_group[age - 17] += 1\n",
    "\n",
    "\tsum_score = 0 # Tổng điểm\n",
    "\tcount_score = 0 # Số môn thi\n",
    "\tfor i in range(11):\n",
    "\t\tif s[i+5] != \"-1\":\n",
    "\t\t\tcount_score += 1\n",
    "\t\t\tsum_score += float(s[i+5])\n",
    "\n",
    "\taverage = sum_score/count_score\n",
    "\taverage_of_student_per_age_group[age-17] += average"
   ]
  },
  {
   "cell_type": "code",
   "execution_count": 3,
   "id": "a8a26e33",
   "metadata": {},
   "outputs": [
    {
     "name": "stdout",
     "output_type": "stream",
     "text": [
      "[2, 66327, 4463, 1396, 767, 384, 300, 223, 177, 109, 296]\n",
      "[55674.99999999999, 46142.82397816897, 44245.86389098245, 43956.57103629422, 42182.226857887865, 41931.009114583336, 41655.41388888891, 40588.5754857997, 42488.064971751395, 41378.675840978576, 43154.051801801805]\n"
     ]
    }
   ],
   "source": [
    "for i in range(len(average_of_student_per_age_group)):\n",
    "\taverage_of_student_per_age_group[i] = average_of_student_per_age_group[i]/num_of_student_per_age_group[i]\n",
    "\n",
    "for i in range(len(average_of_student_per_age_group)):\n",
    "\taverage_of_student_per_age_group[i] = average_of_student_per_age_group[i] * 7000\n",
    "\n",
    "print(num_of_student_per_age_group)\n",
    "print(average_of_student_per_age_group)"
   ]
  },
  {
   "cell_type": "code",
   "execution_count": 9,
   "id": "e52fe699",
   "metadata": {},
   "outputs": [
    {
     "data": {
      "image/png": "[encoded data removed]",
      "text/plain": [
       "<Figure size 432x288 with 2 Axes>"
      ]
     },
     "metadata": {
      "needs_background": "light"
     },
     "output_type": "display_data"
    }
   ],
   "source": [
    "# Draw barchart\n",
    "# https://matplotlib.org/3.1.0/gallery/ticks_and_spines/custom_ticker1.html#sphx-glr-gallery-ticks-and-spines-custom-ticker1-py\n",
    "import matplotlib.pyplot as plt\n",
    "import numpy as np\n",
    "\n",
    "age_label = [17,18,19,20,21,22,23,24,25,26,\">26\"]\n",
    "x = np.arange(11)\n",
    "y = np.arange(11)\n",
    "\n",
    "fig, axis = plt.subplots()\n",
    "plt.bar(x, num_of_student_per_age_group)\n",
    "plt.plot(x, average_of_student_per_age_group, color='red', marker='o')\n",
    "\n",
    "# for index in range(len(x)):\n",
    "#   axis.text(x[index], y[index], y[index], size=12)\n",
    "# set limit \n",
    "axis.set_ylim(0,70000)\n",
    "\n",
    "# label for column x\n",
    "plt.xticks(x, age_label)\n",
    "\n",
    "axis.set_ylabel('Số học sinh')\n",
    "axis.set_xlabel(\"Tuổi\")\n",
    "\n",
    "# right side ticks\n",
    "ax2 = axis.twinx()\n",
    "ax2.tick_params('y', colors='r')\n",
    "ax2.set_ylabel(\"Điểm trung bình\")\n",
    "ax2.set_ylim(0,10)\n",
    "\n",
    "rects = axis.patches\n",
    "# Label for barchart\n",
    "# https://stackoverflow.com/questions/28931224/adding-value-labels-on-a-matplotlib-bar-chart\n",
    "labels = [2, 66327, 4463, 1396, 767, 384, 300, 223, 177, 109, 296]\n",
    "for rect, label in zip(rects, labels):\n",
    "    height = rect.get_height()\n",
    "    axis.text(rect.get_x() + rect.get_width() / 2, height + 2, label,\n",
    "            ha='center', va='bottom')\n",
    "\n",
    "plt.title('Điểm trung bình theo độ tuổi')\n",
    "\n",
    "plt.show()"
   ]
  },
  {
   "cell_type": "code",
   "execution_count": null,
   "id": "6e1b65ce",
   "metadata": {},
   "outputs": [],
   "source": []
  }
 ],
 "metadata": {
  "kernelspec": {
   "display_name": "Python 3",
   "language": "python",
   "name": "python3"
  },
  "language_info": {
   "codemirror_mode": {
    "name": "ipython",
    "version": 3
   },
   "file_extension": ".py",
   "mimetype": "text/x-python",
   "name": "python",
   "nbconvert_exporter": "python",
   "pygments_lexer": "ipython3",
   "version": "3.8.8"
  }
 },
 "nbformat": 4,
 "nbformat_minor": 5
}
