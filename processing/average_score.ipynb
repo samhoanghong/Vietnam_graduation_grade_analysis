{
 "cells": [
  {
   "cell_type": "code",
   "execution_count": 1,
   "id": "d45a9327",
   "metadata": {},
   "outputs": [],
   "source": [
    "import matplotlib.pyplot as plt\n",
    "import numpy as np"
   ]
  },
  {
   "cell_type": "code",
   "execution_count": 2,
   "id": "95f051b2",
   "metadata": {},
   "outputs": [
    {
     "name": "stdout",
     "output_type": "stream",
     "text": [
      "[0, 80, 122, 2598, 4334, 318, 2730, 64261, 0, 0, 0, 1]\n",
      "[0, 5.68, 6.95, 6.58, 5.82, 6.6, 6.66, 6.6, 0, 0, 0, 4.27]\n"
     ]
    }
   ],
   "source": [
    "# read file\n",
    "with open(\"../cleaning/clean_data.csv\", encoding=\"utf8\") as file:\n",
    "    data = file.read().split(\"\\n\")\n",
    "\n",
    "header = data[0]\n",
    "students = data[1:]\n",
    "\n",
    "total_student = len(students)\n",
    "\n",
    "# split header\n",
    "header = header.split(\",\")\n",
    "subjects = header[5:]\n",
    "\n",
    "# turn each student to a list\n",
    "for i in range(len(students)):\n",
    "\tstudents[i] = students[i].split(\",\")\n",
    "\n",
    "# remove empty list (end of file)\n",
    "students.pop()\n",
    "\n",
    "# number of students who took 0,1,2,3,... subjects\n",
    "num_of_exam_taken = [0,0,0,0,0,0,0,0,0,0,0,0]\n",
    "average = [0,0,0,0,0,0,0,0,0,0,0,0]\n",
    "\n",
    "for s in students:\n",
    "\tcount = 0\n",
    "\ttotal = 0\n",
    "\tfor i in range(11):\n",
    "\t\tif s[i+5] != \"-1\":\n",
    "\t\t\ttotal += float(s[i+5])\n",
    "\t\t\tcount += 1\n",
    "\n",
    "\tnum_of_exam_taken[count] += 1\n",
    "\taverage[count] += total/count\n",
    "\n",
    "for i in range(12):\n",
    "\tif num_of_exam_taken[i] != 0:\n",
    "\t\taverage[i] = round(average[i]/num_of_exam_taken[i], 2)\n",
    "\n",
    "print(num_of_exam_taken)\n",
    "print(average)"
   ]
  },
  {
   "cell_type": "code",
   "execution_count": 3,
   "id": "b1584e8c",
   "metadata": {},
   "outputs": [
    {
     "name": "stdout",
     "output_type": "stream",
     "text": [
      "[ 0  1  2  3  4  5  6  7  8  9 10 11]\n"
     ]
    },
    {
     "data": {
      "image/png": "[encoded data removed]",
      "text/plain": [
       "<Figure size 432x288 with 1 Axes>"
      ]
     },
     "metadata": {
      "needs_background": "light"
     },
     "output_type": "display_data"
    }
   ],
   "source": [
    "x = np.arange(12)\n",
    "y = np.arange(12)\n",
    "print(x)\n",
    "\n",
    "fig, axis = plt.subplots()\n",
    "plt.bar(x, average)\n",
    "\n",
    "# set limit \n",
    "axis.set_ylim(0,10)\n",
    "\n",
    "# label for column x\n",
    "plt.xticks(x, y)\n",
    "\n",
    "axis.set_ylabel('Điểm Trung Bình')\n",
    "axis.set_xlabel('Số môn thi')\n",
    "\n",
    "rects = axis.patches\n",
    "\n",
    "# Make some labels.\n",
    "# https://stackoverflow.com/questions/28931224/adding-value-labels-on-a-matplotlib-bar-chart\n",
    "labels = average\n",
    "for rect, label in zip(rects, labels):\n",
    "    height = rect.get_height()\n",
    "    axis.text(rect.get_x() + rect.get_width() / 2, height, label,ha='center', va='bottom')\n",
    "\n",
    "plt.title('Điểm trung bình theo số lượng môn thi')\n",
    "\n",
    "plt.show()"
   ]
  },
  {
   "cell_type": "code",
   "execution_count": null,
   "id": "6872b65b",
   "metadata": {},
   "outputs": [],
   "source": []
  }
 ],
 "metadata": {
  "kernelspec": {
   "display_name": "Python 3",
   "language": "python",
   "name": "python3"
  },
  "language_info": {
   "codemirror_mode": {
    "name": "ipython",
    "version": 3
   },
   "file_extension": ".py",
   "mimetype": "text/x-python",
   "name": "python",
   "nbconvert_exporter": "python",
   "pygments_lexer": "ipython3",
   "version": "3.8.8"
  }
 },
 "nbformat": 4,
 "nbformat_minor": 5
}
