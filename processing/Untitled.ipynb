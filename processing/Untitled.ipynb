{
 "cells": [
  {
   "cell_type": "code",
   "execution_count": 2,
   "id": "b1059d8b",
   "metadata": {},
   "outputs": [
    {
     "data": {
      "text/plain": [
       "['']"
      ]
     },
     "execution_count": 2,
     "metadata": {},
     "output_type": "execute_result"
    }
   ],
   "source": [
    "# read file\n",
    "with open(\"../cleaning/clean_data.csv\", encoding=\"utf8\") as file:\n",
    "    data = file.read().split(\"\\n\")\n",
    "\n",
    "header = data[0]\n",
    "students = data[1:]\n",
    "\n",
    "total_student = len(students)\n",
    "\n",
    "# split header\n",
    "header = header.split(\",\")\n",
    "subjects = header[5:]\n",
    "\n",
    "# turn each student to a list\n",
    "for i in range(len(students)):\n",
    "\tstudents[i] = students[i].split(\",\")\n",
    "\n",
    "# remove empty list (end of file)\n",
    "students.pop()"
   ]
  },
  {
   "cell_type": "code",
   "execution_count": 3,
   "id": "cfacae08",
   "metadata": {},
   "outputs": [
    {
     "name": "stdout",
     "output_type": "stream",
     "text": [
      "02033237\n",
      "Đoàn Huỳnh Nguyễn Châu Thanh Tú\n"
     ]
    }
   ],
   "source": [
    "max_name_length = 0 # Độ dài của tên\n",
    "index = 0 # Vị trí của tên dài nhất\n",
    "for i in range(len(students)):\n",
    "\t# so sánh độ dài của học sinh i với max_length_index\n",
    "\t# Nếu dài hơn thì lấy nó làm thí sinh dài nhất\n",
    "\tif len(students[i][1]) >= max_name_length:\n",
    "\t\tmax_name_length = len(students[i][1])\n",
    "\t\tindex = i\n",
    "\n",
    "# In số báo danh\n",
    "print(students[index][0])\n",
    "# In tên \n",
    "print(students[index][1])"
   ]
  }
 ],
 "metadata": {
  "kernelspec": {
   "display_name": "Python 3",
   "language": "python",
   "name": "python3"
  },
  "language_info": {
   "codemirror_mode": {
    "name": "ipython",
    "version": 3
   },
   "file_extension": ".py",
   "mimetype": "text/x-python",
   "name": "python",
   "nbconvert_exporter": "python",
   "pygments_lexer": "ipython3",
   "version": "3.8.8"
  }
 },
 "nbformat": 4,
 "nbformat_minor": 5
}
